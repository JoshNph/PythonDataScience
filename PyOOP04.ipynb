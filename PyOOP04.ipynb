{
 "cells": [
  {
   "cell_type": "code",
   "execution_count": 14,
   "id": "7f3a53ba",
   "metadata": {},
   "outputs": [],
   "source": [
    "class Employee:\n",
    "    \n",
    "    raise_amount = 4;\n",
    "    emp_count = 0\n",
    "    \n",
    "    def __init__(self, first, last, pay):\n",
    "        self.first = first\n",
    "        self.last = last\n",
    "        self.pay = pay\n",
    "        self.email = first + '.' +  last + '@company.com'\n",
    "        \n",
    "        Employee.emp_count += 1\n",
    "        \n",
    "    def fullnam(self):\n",
    "        return '{} {}'.format(self.first, self.last)\n",
    "    \n",
    "    def apply_raise(self):\n",
    "        self.pay = int(self.pay * (1 + self.raise_amount/100))\n",
    "    \n",
    "    #class methods and static methods\n",
    "    @classmethod\n",
    "    def set_raise_amt(cls, amount):\n",
    "        cls.raise_amount = amount\n",
    "        \n",
    "    @classmethod\n",
    "    def from_string(cls, emp_str):\n",
    "        first, last, pay = emp_str.split('-')\n",
    "        return cls(first, last, pay)\n",
    "    \n",
    "    @staticmethod\n",
    "    def is_workday(day):\n",
    "        if day.weekday == 5 or day.weekday() == 6:\n",
    "            return False\n",
    "        return True"
   ]
  },
  {
   "cell_type": "code",
   "execution_count": null,
   "id": "b2748211",
   "metadata": {},
   "outputs": [],
   "source": [
    "# inheritance\n",
    "class Developer(Employee):\n",
    "     def __init__(self, first, last, pay, prog_lang):\n",
    "        super().__init__(first, last, pay)\n",
    "        \n",
    "        Employee.emp_count += 1"
   ]
  },
  {
   "cell_type": "code",
   "execution_count": 15,
   "id": "72ddde1f",
   "metadata": {},
   "outputs": [],
   "source": [
    "emp_1 = Employee('Britney', 'Spears', 500000)\n",
    "emp_2 = Employee('Cristina', 'Aguilera', 60000)"
   ]
  },
  {
   "cell_type": "code",
   "execution_count": 16,
   "id": "11956baf",
   "metadata": {},
   "outputs": [
    {
     "name": "stdout",
     "output_type": "stream",
     "text": [
      "500000\n",
      "520000\n"
     ]
    }
   ],
   "source": [
    "print(emp_1.pay)\n",
    "emp_1.apply_raise()\n",
    "print(emp_1.pay)"
   ]
  },
  {
   "cell_type": "code",
   "execution_count": 17,
   "id": "e22c1244",
   "metadata": {},
   "outputs": [
    {
     "name": "stdout",
     "output_type": "stream",
     "text": [
      "{'first': 'Britney', 'last': 'Spears', 'pay': 520000, 'email': 'Britney.Spears@company.com'}\n"
     ]
    }
   ],
   "source": [
    "print(emp_1.__dict__)"
   ]
  },
  {
   "cell_type": "code",
   "execution_count": 18,
   "id": "aa54de24",
   "metadata": {},
   "outputs": [
    {
     "name": "stdout",
     "output_type": "stream",
     "text": [
      "{'__module__': '__main__', 'raise_amount': 4, 'emp_count': 2, '__init__': <function Employee.__init__ at 0x0000027DBBCF4E50>, 'fullnam': <function Employee.fullnam at 0x0000027DBBCF4790>, 'apply_raise': <function Employee.apply_raise at 0x0000027DBBD20820>, 'set_raise_amt': <classmethod object at 0x0000027DBBD1B340>, 'from_string': <classmethod object at 0x0000027DBBD1B2E0>, 'is_workday': <staticmethod object at 0x0000027DBBD1B2B0>, '__dict__': <attribute '__dict__' of 'Employee' objects>, '__weakref__': <attribute '__weakref__' of 'Employee' objects>, '__doc__': None}\n"
     ]
    }
   ],
   "source": [
    "print(Employee.__dict__)"
   ]
  },
  {
   "cell_type": "code",
   "execution_count": 19,
   "id": "debfeddf",
   "metadata": {},
   "outputs": [
    {
     "name": "stdout",
     "output_type": "stream",
     "text": [
      "4\n",
      "5\n"
     ]
    }
   ],
   "source": [
    "emp_1.raise_amount = 5\n",
    "\n",
    "print(Employee.raise_amount)\n",
    "print(emp_1.raise_amount)\n",
    "\n",
    "# the raise amount change only applies to the instance"
   ]
  },
  {
   "cell_type": "code",
   "execution_count": 20,
   "id": "bdd91c31",
   "metadata": {},
   "outputs": [
    {
     "name": "stdout",
     "output_type": "stream",
     "text": [
      "5\n",
      "5\n"
     ]
    }
   ],
   "source": [
    "Employee.raise_amount = 5\n",
    "\n",
    "print(Employee.raise_amount)\n",
    "print(emp_1.raise_amount)\n",
    "\n",
    "# the raise amount applies to all"
   ]
  },
  {
   "cell_type": "code",
   "execution_count": 21,
   "id": "e7e3b023",
   "metadata": {},
   "outputs": [
    {
     "name": "stdout",
     "output_type": "stream",
     "text": [
      "2\n"
     ]
    }
   ],
   "source": [
    "print(Employee.emp_count)"
   ]
  },
  {
   "cell_type": "code",
   "execution_count": 22,
   "id": "ae2dca0a",
   "metadata": {},
   "outputs": [
    {
     "name": "stdout",
     "output_type": "stream",
     "text": [
      "5\n",
      "5\n"
     ]
    }
   ],
   "source": [
    "Employee.set_raise_amt(5)\n",
    "\n",
    "print(Employee.raise_amount)\n",
    "print(emp_1.raise_amount)"
   ]
  },
  {
   "cell_type": "code",
   "execution_count": 23,
   "id": "6c23da04",
   "metadata": {},
   "outputs": [
    {
     "name": "stdout",
     "output_type": "stream",
     "text": [
      "John.Doe@company.com\n",
      "70000\n"
     ]
    }
   ],
   "source": [
    "emp_str_3 = 'John-Doe-70000'\n",
    "emp_str_4 = 'Steve-Smith-30000'\n",
    "\n",
    "emp_3 = Employee.from_string(emp_str_3)\n",
    "\n",
    "print(emp_3.email)\n",
    "print(emp_3.pay)"
   ]
  },
  {
   "cell_type": "code",
   "execution_count": 24,
   "id": "6924d8a9",
   "metadata": {},
   "outputs": [
    {
     "name": "stdout",
     "output_type": "stream",
     "text": [
      "False\n"
     ]
    }
   ],
   "source": [
    "import datetime\n",
    "my_date = datetime.date(2016, 7, 10)\n",
    "\n",
    "print(Employee.is_workday(my_date))"
   ]
  }
 ],
 "metadata": {
  "kernelspec": {
   "display_name": "Python 3 (ipykernel)",
   "language": "python",
   "name": "python3"
  },
  "language_info": {
   "codemirror_mode": {
    "name": "ipython",
    "version": 3
   },
   "file_extension": ".py",
   "mimetype": "text/x-python",
   "name": "python",
   "nbconvert_exporter": "python",
   "pygments_lexer": "ipython3",
   "version": "3.9.13"
  }
 },
 "nbformat": 4,
 "nbformat_minor": 5
}
